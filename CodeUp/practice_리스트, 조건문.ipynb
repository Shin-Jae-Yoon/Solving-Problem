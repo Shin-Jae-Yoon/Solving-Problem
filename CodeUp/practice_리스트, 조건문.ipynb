{
 "cells": [
  {
   "cell_type": "markdown",
   "id": "c0e3c9dd",
   "metadata": {},
   "source": [
    "### 데이터 구조 - 리스트 (list)\n",
    "\n",
    "> 데이터 구조 : 연관 있는 데이터를 어떻게 컴퓨터로 효율적으로 다룰 수 있을까?\n",
    "\n",
    "- 리스트\n",
    "    - 여러가지 관계가 있는 데이터를 하나의 변수로 다루는 방법\n",
    "    - \\[ \\]안에 ,를 사용해서 데이터를 써넣으면 됨\n",
    "        - 예 : mydata = \\[1, 2, 'hello', 1.2\\]\n",
    "        \n",
    "- 각 데이터는 인덱스를 사용해서 다룰 수 있음"
   ]
  },
  {
   "cell_type": "code",
   "execution_count": 1,
   "id": "c9ccbfc1",
   "metadata": {},
   "outputs": [],
   "source": [
    "location = ['서울시', '경기도', '인천시']"
   ]
  },
  {
   "cell_type": "code",
   "execution_count": 2,
   "id": "758e3f68",
   "metadata": {},
   "outputs": [
    {
     "name": "stdout",
     "output_type": "stream",
     "text": [
      "서울시\n"
     ]
    }
   ],
   "source": [
    "print(location[0])"
   ]
  },
  {
   "cell_type": "code",
   "execution_count": 3,
   "id": "dc241a87",
   "metadata": {},
   "outputs": [
    {
     "name": "stdout",
     "output_type": "stream",
     "text": [
      "['서울시', '경기도', '인천시']\n"
     ]
    }
   ],
   "source": [
    "print(location)"
   ]
  },
  {
   "cell_type": "markdown",
   "id": "c0a31786",
   "metadata": {},
   "source": [
    "<strong>.append는 리스트 맨 마지막에 추가하는 것, 하나씩만 추가 가능</strong><br>\n",
    "<strong>.insert()로 특정 데이터 추가 가능</strong>"
   ]
  },
  {
   "cell_type": "code",
   "execution_count": 4,
   "id": "c820027c",
   "metadata": {},
   "outputs": [],
   "source": [
    "location.append('부산시')"
   ]
  },
  {
   "cell_type": "code",
   "execution_count": 5,
   "id": "0a29cd72",
   "metadata": {},
   "outputs": [
    {
     "name": "stdout",
     "output_type": "stream",
     "text": [
      "['서울시', '경기도', '인천시', '부산시']\n"
     ]
    }
   ],
   "source": [
    "print(location)"
   ]
  },
  {
   "cell_type": "code",
   "execution_count": 6,
   "id": "f1483319",
   "metadata": {},
   "outputs": [
    {
     "name": "stdout",
     "output_type": "stream",
     "text": [
      "부산시\n"
     ]
    }
   ],
   "source": [
    "print(location[-1])"
   ]
  },
  {
   "cell_type": "code",
   "execution_count": 7,
   "id": "2d89afc6",
   "metadata": {},
   "outputs": [
    {
     "name": "stdout",
     "output_type": "stream",
     "text": [
      "['경기도']\n"
     ]
    }
   ],
   "source": [
    "print(location[1:2])"
   ]
  },
  {
   "cell_type": "code",
   "execution_count": 8,
   "id": "c172e94c",
   "metadata": {},
   "outputs": [],
   "source": [
    "location.insert(2, '김해시')"
   ]
  },
  {
   "cell_type": "code",
   "execution_count": 9,
   "id": "367d867f",
   "metadata": {},
   "outputs": [
    {
     "name": "stdout",
     "output_type": "stream",
     "text": [
      "['서울시', '경기도', '김해시', '인천시', '부산시']\n"
     ]
    }
   ],
   "source": [
    "print(location)"
   ]
  },
  {
   "cell_type": "markdown",
   "id": "2fad1938",
   "metadata": {},
   "source": [
    "<strong>특정 리스트를 지칭해서 remove로 삭제하던가</strong><br>\n",
    "<strong>인덱스를 지칭해서 del로 삭제하던가</strong>"
   ]
  },
  {
   "cell_type": "code",
   "execution_count": 10,
   "id": "4ae3ba99",
   "metadata": {},
   "outputs": [
    {
     "name": "stdout",
     "output_type": "stream",
     "text": [
      "['서울시', '경기도', '김해시', '인천시', '부산시']\n"
     ]
    }
   ],
   "source": [
    "print(location)"
   ]
  },
  {
   "cell_type": "code",
   "execution_count": 11,
   "id": "d05b39bd",
   "metadata": {},
   "outputs": [],
   "source": [
    "del location[0]"
   ]
  },
  {
   "cell_type": "code",
   "execution_count": 12,
   "id": "daa2922d",
   "metadata": {},
   "outputs": [
    {
     "name": "stdout",
     "output_type": "stream",
     "text": [
      "['경기도', '김해시', '인천시', '부산시']\n"
     ]
    }
   ],
   "source": [
    "print(location)"
   ]
  },
  {
   "cell_type": "code",
   "execution_count": 13,
   "id": "2b8f2832",
   "metadata": {},
   "outputs": [],
   "source": [
    "location.remove('경기도')"
   ]
  },
  {
   "cell_type": "code",
   "execution_count": 14,
   "id": "dd564382",
   "metadata": {},
   "outputs": [
    {
     "name": "stdout",
     "output_type": "stream",
     "text": [
      "['김해시', '인천시', '부산시']\n"
     ]
    }
   ],
   "source": [
    "print(location)"
   ]
  },
  {
   "cell_type": "markdown",
   "id": "168db380",
   "metadata": {},
   "source": [
    "<strong>보통은 빈 배열 먼저 선언하고 추가하는 것이 일반적</strong>"
   ]
  },
  {
   "cell_type": "code",
   "execution_count": 15,
   "id": "ce197652",
   "metadata": {},
   "outputs": [],
   "source": [
    "location = []"
   ]
  },
  {
   "cell_type": "code",
   "execution_count": 16,
   "id": "714f4f4a",
   "metadata": {},
   "outputs": [],
   "source": [
    "location.append('서울시')"
   ]
  },
  {
   "cell_type": "code",
   "execution_count": 17,
   "id": "646326f4",
   "metadata": {},
   "outputs": [],
   "source": [
    "location.append('경기도')"
   ]
  },
  {
   "cell_type": "code",
   "execution_count": 18,
   "id": "a8868607",
   "metadata": {},
   "outputs": [
    {
     "name": "stdout",
     "output_type": "stream",
     "text": [
      "경기도\n"
     ]
    }
   ],
   "source": [
    "print(location[1])"
   ]
  },
  {
   "cell_type": "markdown",
   "id": "1753aaf4",
   "metadata": {},
   "source": [
    "<strong>빈 배열을 만들 때는 [] 보다는 list()를 써라</strong>"
   ]
  },
  {
   "cell_type": "code",
   "execution_count": 19,
   "id": "d9006116",
   "metadata": {},
   "outputs": [],
   "source": [
    "location = list()"
   ]
  },
  {
   "cell_type": "code",
   "execution_count": 27,
   "id": "04b79a93",
   "metadata": {},
   "outputs": [],
   "source": [
    "location = list()"
   ]
  },
  {
   "cell_type": "code",
   "execution_count": 28,
   "id": "5a316a77",
   "metadata": {},
   "outputs": [],
   "source": [
    "location.append('김해시')"
   ]
  },
  {
   "cell_type": "code",
   "execution_count": 29,
   "id": "5ef71067",
   "metadata": {},
   "outputs": [],
   "source": [
    "location.append('서울시')"
   ]
  },
  {
   "cell_type": "code",
   "execution_count": 30,
   "id": "c04c4330",
   "metadata": {},
   "outputs": [
    {
     "name": "stdout",
     "output_type": "stream",
     "text": [
      "['김해시', '서울시']\n"
     ]
    }
   ],
   "source": [
    "print(location)"
   ]
  },
  {
   "cell_type": "markdown",
   "id": "ebc0c24c",
   "metadata": {},
   "source": [
    "## 리스트 변수\n",
    "\n",
    "1. 리스트 선언\n",
    "```\n",
    "    - 리스트변수 = [ ]\n",
    "    - 리스트변수 = list()\n",
    "    - 리스트변수 = [데이터1, 데이터2, ...]\n",
    "```\n",
    "\n",
    "2. 리스트 추가\n",
    "```\n",
    "    - 리스트변수.append(데이터)\n",
    "    - 리스트변수.insert(인덱스번호, 데이터)\n",
    "```\n",
    "\n",
    "3. 리스트 삭제\n",
    "```\n",
    "    - 리스트변수.remove(데이터)\n",
    "    - del 리스트변수[인덱스번호]\n",
    "```\n",
    "\n",
    "4. 리스트 데이터 수정\n",
    "```\n",
    "    - 리스트변수[인덱스번호] = 수정할 데이터\n",
    "```"
   ]
  },
  {
   "cell_type": "code",
   "execution_count": 24,
   "id": "7de212aa",
   "metadata": {},
   "outputs": [],
   "source": [
    "location.append('서울시')"
   ]
  },
  {
   "cell_type": "code",
   "execution_count": 31,
   "id": "27b4e5d5",
   "metadata": {},
   "outputs": [
    {
     "name": "stdout",
     "output_type": "stream",
     "text": [
      "['김해시', '서울시']\n"
     ]
    }
   ],
   "source": [
    "print(location)"
   ]
  },
  {
   "cell_type": "code",
   "execution_count": 32,
   "id": "7086e751",
   "metadata": {},
   "outputs": [],
   "source": [
    "location[0] = '서울시'"
   ]
  },
  {
   "cell_type": "code",
   "execution_count": 33,
   "id": "55afec42",
   "metadata": {},
   "outputs": [],
   "source": [
    "location[1] = '김해시'"
   ]
  },
  {
   "cell_type": "code",
   "execution_count": 34,
   "id": "60b229f5",
   "metadata": {},
   "outputs": [
    {
     "name": "stdout",
     "output_type": "stream",
     "text": [
      "['서울시', '김해시']\n"
     ]
    }
   ],
   "source": [
    "print(location)"
   ]
  },
  {
   "cell_type": "markdown",
   "id": "4658d4af",
   "metadata": {},
   "source": [
    "<strong>리스트 안의 데이터 타입이 동일할 필요는 없다.</strong>"
   ]
  },
  {
   "cell_type": "code",
   "execution_count": 35,
   "id": "f586884c",
   "metadata": {},
   "outputs": [],
   "source": [
    "location = ['서울시', '부산시', 1, 2.1, True]"
   ]
  },
  {
   "cell_type": "code",
   "execution_count": 36,
   "id": "fcb6b585",
   "metadata": {},
   "outputs": [
    {
     "name": "stdout",
     "output_type": "stream",
     "text": [
      "['서울시', '부산시', 1, 2.1, True]\n"
     ]
    }
   ],
   "source": [
    "print(location)"
   ]
  },
  {
   "cell_type": "markdown",
   "id": "81418807",
   "metadata": {},
   "source": [
    "### SmallProject1\n",
    "\n",
    "* 처음 리스트 변수 데이터\n",
    "    - lang = [\"java\", \"c\", \"c++\"]\n",
    "    \n",
    "* 리스트 함수 활용해서 다음과 같이 리스트 만들기\n",
    "    - lang = [\"java\", \"c\", \"c++\", \"golang\"]"
   ]
  },
  {
   "cell_type": "code",
   "execution_count": 42,
   "id": "4d039810",
   "metadata": {},
   "outputs": [
    {
     "name": "stdout",
     "output_type": "stream",
     "text": [
      "['java', 'c', 'c++']\n",
      "['java', 'c', 'c++', 'golang']\n",
      "['java', 'c', 'c++']\n",
      "['java', 'c', 'c++', 'golang']\n",
      "['java', 'c', 'c++']\n"
     ]
    }
   ],
   "source": [
    "lang = [\"java\", \"c\", \"c++\"]\n",
    "print(lang)\n",
    "\n",
    "lang.append(\"golang\")\n",
    "print(lang)\n",
    "\n",
    "lang.remove(\"golang\")\n",
    "print(lang)\n",
    "\n",
    "lang.append(\"golang\")\n",
    "print(lang)\n",
    "\n",
    "del lang[3]\n",
    "print(lang)"
   ]
  },
  {
   "cell_type": "code",
   "execution_count": 38,
   "id": "3b43eadd",
   "metadata": {},
   "outputs": [
    {
     "name": "stdout",
     "output_type": "stream",
     "text": [
      "['java', 'c', 'c++']\n"
     ]
    }
   ],
   "source": [
    "print(lang)"
   ]
  },
  {
   "cell_type": "markdown",
   "id": "d4d97dc6",
   "metadata": {},
   "source": [
    "- 리스트 데이터 정렬하기\n",
    "\n",
    "```python\n",
    "numbers = [2, 1, 4, 3]\n",
    "print(numbers)\n",
    "\n",
    "numbers.sort()\n",
    "print(numbers)\n",
    "```\n",
    "\n",
    "- 리스트 데이터 역순으로 정렬하기\n",
    "\n",
    "```python\n",
    "numbers = [2, 1, 4, 3]\n",
    "numbers.reverse()\n",
    "print(numbers)\n",
    "```"
   ]
  },
  {
   "cell_type": "code",
   "execution_count": 39,
   "id": "7abf53c9",
   "metadata": {},
   "outputs": [],
   "source": [
    "lang.append(\"golang\")"
   ]
  },
  {
   "cell_type": "code",
   "execution_count": 43,
   "id": "43853e2b",
   "metadata": {},
   "outputs": [
    {
     "name": "stdout",
     "output_type": "stream",
     "text": [
      "[2, 1, 4, 3]\n",
      "[1, 2, 3, 4]\n",
      "[3, 4, 1, 2]\n"
     ]
    }
   ],
   "source": [
    "numbers = [2, 1, 4, 3]\n",
    "print(numbers)\n",
    "\n",
    "numbers.sort()\n",
    "print(numbers)\n",
    "\n",
    "numbers = [2, 1, 4, 3]\n",
    "numbers.reverse()\n",
    "print(numbers)"
   ]
  },
  {
   "cell_type": "code",
   "execution_count": 44,
   "id": "34f7210e",
   "metadata": {},
   "outputs": [],
   "source": [
    "digit_set = [1, 5, 3, 2, 4]"
   ]
  },
  {
   "cell_type": "code",
   "execution_count": 45,
   "id": "66717616",
   "metadata": {},
   "outputs": [],
   "source": [
    "digit_set.sort()"
   ]
  },
  {
   "cell_type": "code",
   "execution_count": 46,
   "id": "00ca6cd5",
   "metadata": {},
   "outputs": [
    {
     "name": "stdout",
     "output_type": "stream",
     "text": [
      "[1, 2, 3, 4, 5]\n"
     ]
    }
   ],
   "source": [
    "print(digit_set)"
   ]
  },
  {
   "cell_type": "code",
   "execution_count": 47,
   "id": "0558615d",
   "metadata": {},
   "outputs": [],
   "source": [
    "digit_set.reverse()"
   ]
  },
  {
   "cell_type": "code",
   "execution_count": 48,
   "id": "092995cc",
   "metadata": {},
   "outputs": [
    {
     "name": "stdout",
     "output_type": "stream",
     "text": [
      "[5, 4, 3, 2, 1]\n"
     ]
    }
   ],
   "source": [
    "print(digit_set)"
   ]
  },
  {
   "cell_type": "code",
   "execution_count": 50,
   "id": "4b1f6dab",
   "metadata": {},
   "outputs": [],
   "source": [
    "digit_set2 = [4, 2, 3, 1, 5]"
   ]
  },
  {
   "cell_type": "code",
   "execution_count": 51,
   "id": "7286aa1e",
   "metadata": {},
   "outputs": [],
   "source": [
    "digit_set2.reverse()"
   ]
  },
  {
   "cell_type": "code",
   "execution_count": 52,
   "id": "4fc6a934",
   "metadata": {},
   "outputs": [
    {
     "name": "stdout",
     "output_type": "stream",
     "text": [
      "[5, 1, 3, 2, 4]\n"
     ]
    }
   ],
   "source": [
    "print(digit_set2)"
   ]
  },
  {
   "cell_type": "markdown",
   "id": "e2baa4ef",
   "metadata": {},
   "source": [
    "<strong>음.. 내림차순 정렬 하려면 먼저 sort하고 reverse 해야할 듯?</strong>"
   ]
  },
  {
   "cell_type": "markdown",
   "id": "1c634326",
   "metadata": {},
   "source": [
    "## 문자열 특수 함수와 리스트\n",
    "\n",
    "```python\n",
    "python_is_easy = \"python is easy\"\n",
    "python_is_easy.split()\n",
    "```\n",
    "\n",
    "split() 함수는 본래 변수의 내용을 바꾸지는 않는다.<br>\n",
    "위의 sort() 함수나 reverse() 함수는 본래 변수의 내용을 바꾸는 것이다."
   ]
  },
  {
   "cell_type": "code",
   "execution_count": 54,
   "id": "65d16ffc",
   "metadata": {},
   "outputs": [
    {
     "name": "stdout",
     "output_type": "stream",
     "text": [
      "['python', 'is', 'easy']\n"
     ]
    }
   ],
   "source": [
    "python_is_easy = \"python is easy\"\n",
    "print(python_is_easy.split())"
   ]
  },
  {
   "cell_type": "markdown",
   "id": "9ceb5c08",
   "metadata": {},
   "source": [
    "## SmallProject2\n",
    "나이를 입력 받아서, 나이가 19 이상이면 당신은 성인입니다. 출력하기\n",
    "\n",
    "```python\n",
    "age = input(\"나이는?\")\n",
    "```"
   ]
  },
  {
   "cell_type": "code",
   "execution_count": 62,
   "id": "81808361",
   "metadata": {},
   "outputs": [
    {
     "name": "stdout",
     "output_type": "stream",
     "text": [
      "나이는? 19\n",
      "당신은 성인입니다.\n",
      "이렇게 ;가 없어도\n",
      "탭으로 띄워져만 있으면\n",
      "다 출력 되지롱\n"
     ]
    }
   ],
   "source": [
    "age = input(\"나이는? \")\n",
    "\n",
    "if int(age) >= 19 :\n",
    "    print(\"당신은 성인입니다.\")\n",
    "    print(\"이렇게 ;가 없어도\")\n",
    "    print(\"탭으로 띄워져만 있으면\")\n",
    "    print(\"다 출력 되지롱\")\n",
    "    \n",
    "else :\n",
    "    print(\"당신은 성인이 아닙니다.\")"
   ]
  },
  {
   "cell_type": "markdown",
   "id": "2f6665f7",
   "metadata": {},
   "source": [
    "## 조건문이 필요합니다.\n",
    "\n",
    "```python\n",
    "if 조건:\n",
    "    실행문1\n",
    "    실행문2\n",
    "    \n",
    "if 조건1 and 조건2:\n",
    "    실행문\n",
    "    \n",
    "if 조건1 or 조건2:\n",
    "    실행문\n",
    "    \n",
    "if not 조건:\n",
    "    실행문\n",
    "```"
   ]
  }
 ],
 "metadata": {
  "kernelspec": {
   "display_name": "Python 3 (ipykernel)",
   "language": "python",
   "name": "python3"
  },
  "language_info": {
   "codemirror_mode": {
    "name": "ipython",
    "version": 3
   },
   "file_extension": ".py",
   "mimetype": "text/x-python",
   "name": "python",
   "nbconvert_exporter": "python",
   "pygments_lexer": "ipython3",
   "version": "3.9.7"
  }
 },
 "nbformat": 4,
 "nbformat_minor": 5
}
