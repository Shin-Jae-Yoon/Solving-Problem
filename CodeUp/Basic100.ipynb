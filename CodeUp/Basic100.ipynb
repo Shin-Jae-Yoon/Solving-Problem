{
 "cells": [
  {
   "cell_type": "markdown",
   "id": "5f8c348d",
   "metadata": {},
   "source": [
    "## [2번](https://codeup.kr/problem.php?id=6002), [3번 문제](https://codeup.kr/problem.php?id=6003)\n",
    "\n",
    "- print(\"문장1 문장2\"), print(\"문장1\", \"문장2\")\n",
    "- print(\"문장1 \\n 문장2\"), 줄 바꿔서"
   ]
  },
  {
   "cell_type": "code",
   "execution_count": 2,
   "id": "81ae232d",
   "metadata": {},
   "outputs": [
    {
     "name": "stdout",
     "output_type": "stream",
     "text": [
      "Hello World\n",
      "Hello World\n",
      "Hello\n",
      "World\n",
      "Hello\n",
      "World\n"
     ]
    }
   ],
   "source": [
    "# 2번 - 첫 번째 방법\n",
    "print(\"Hello World\")\n",
    "\n",
    "# 2번 - 두 번째 방법\n",
    "print(\"Hello\", \"World\")\n",
    "\n",
    "# 다른 언어와 다르게 이스케이프 `\\n` 안쓰고도 줄바꿈 가능\n",
    "\n",
    "# 3번 - 첫 번째 방법\n",
    "print(\"Hello\\nWorld\")\n",
    "\n",
    "# 3번 - 두 번째 방법\n",
    "print(\"Hello\")\n",
    "print(\"World\")"
   ]
  },
  {
   "cell_type": "markdown",
   "id": "f3cc0194",
   "metadata": {},
   "source": [
    "## [6번](https://codeup.kr/problem.php?id=6006), [7번](https://codeup.kr/problem.php?id=6007), [8번 문제](https://codeup.kr/problem.php?id=6008)\n",
    "\n",
    "- 특수문자 앞에 이스케이프 `\\` 붙이는건 `\", ', \\` 정도로 알고 있자."
   ]
  },
  {
   "cell_type": "code",
   "execution_count": 3,
   "id": "594e4043",
   "metadata": {},
   "outputs": [
    {
     "name": "stdout",
     "output_type": "stream",
     "text": [
      "\"!@#$%^&*()'\n",
      "\"!@#$%^&*()'\n",
      "\"!@#$%^&*()'\n"
     ]
    }
   ],
   "source": [
    "print(\"\\\"!@#$%^&*()'\")\n",
    "print('\"!@#$%^&*()\\'')\n",
    "print(\"\\\"!@#$%^&*()\\'\")"
   ]
  },
  {
   "cell_type": "code",
   "execution_count": 4,
   "id": "78cff95e",
   "metadata": {},
   "outputs": [
    {
     "name": "stdout",
     "output_type": "stream",
     "text": [
      "\"C:\\Download\\'hello'.py\"\n",
      "\"C:\\Download\\'hello'.py\"\n"
     ]
    }
   ],
   "source": [
    "print(\"\\\"C:\\Download\\\\\\'hello\\'.py\\\"\")\n",
    "print(\"\\\"C:\\\\Download\\\\'hello'.py\\\"\")"
   ]
  },
  {
   "cell_type": "code",
   "execution_count": 5,
   "id": "f3479b04",
   "metadata": {},
   "outputs": [
    {
     "name": "stdout",
     "output_type": "stream",
     "text": [
      "print(\"Hello\\nWorld\")\n"
     ]
    }
   ],
   "source": [
    "print(\"print(\\\"Hello\\\\nWorld\\\")\")"
   ]
  },
  {
   "cell_type": "markdown",
   "id": "334e6fc6",
   "metadata": {},
   "source": [
    "## [15번 문제](https://codeup.kr/problem.php?id=6015)\n",
    "\n",
    "- 띄어쓰기로 입력 받기, `a, b`는 튜플 형태인 것을 명심"
   ]
  },
  {
   "cell_type": "code",
   "execution_count": 6,
   "id": "c7bcc89e",
   "metadata": {},
   "outputs": [
    {
     "name": "stdout",
     "output_type": "stream",
     "text": [
      "1 2\n",
      "2\n",
      "1\n"
     ]
    }
   ],
   "source": [
    "a, b = input().split()\n",
    "print(b)\n",
    "print(a)"
   ]
  },
  {
   "cell_type": "markdown",
   "id": "80a524ff",
   "metadata": {},
   "source": [
    "## [18번](https://codeup.kr/problem.php?id=6018), [20번 문제](https://codeup.kr/problem.php?id=6020)\n",
    "\n",
    "- sep=' ' 사용하는 문제\n",
    "- sep는 분류기호 seperator를 의미한다.\n",
    "- 클론 기호`' '`를 사이에 두고 값을 출력"
   ]
  },
  {
   "cell_type": "code",
   "execution_count": 7,
   "id": "439cadcf",
   "metadata": {},
   "outputs": [
    {
     "name": "stdout",
     "output_type": "stream",
     "text": [
      "3:16\n",
      "3:16\n"
     ]
    }
   ],
   "source": [
    "a, b = input().split(':')\n",
    "print(a, b, sep=':')"
   ]
  },
  {
   "cell_type": "markdown",
   "id": "fe89bd9c",
   "metadata": {},
   "source": [
    "- 아무것도 없는 빈(empty) 문자는 그냥 `''`\n",
    "- join() 함수, 반복문 섞어서도 가능"
   ]
  },
  {
   "cell_type": "code",
   "execution_count": 1,
   "id": "dd42f42f",
   "metadata": {},
   "outputs": [
    {
     "name": "stdout",
     "output_type": "stream",
     "text": [
      "000907-1121112\n",
      "0009071121112\n",
      "000907-1121112\n",
      "0009071121112\n"
     ]
    }
   ],
   "source": [
    "(a, b) = input().split(\"-\")\n",
    "print(a, b, sep=\"\")\n",
    "\n",
    "a = input().split(\"-\")\n",
    "result = ''.join(s for s in a)\n",
    "print(result)"
   ]
  },
  {
   "cell_type": "markdown",
   "id": "9f55e27e",
   "metadata": {},
   "source": [
    "## [22번 문제](https://codeup.kr/problem.php?id=6022)"
   ]
  },
  {
   "cell_type": "code",
   "execution_count": 2,
   "id": "b7df6068",
   "metadata": {},
   "outputs": [
    {
     "name": "stdout",
     "output_type": "stream",
     "text": [
      "200304\n",
      "20 03 04\n"
     ]
    }
   ],
   "source": [
    "# sep 이용\n",
    "\n",
    "s = input()\n",
    "print(s[0:2], s[2:4], s[4:6], sep=' ')"
   ]
  },
  {
   "cell_type": "code",
   "execution_count": 3,
   "id": "a7bf395c",
   "metadata": {},
   "outputs": [
    {
     "name": "stdout",
     "output_type": "stream",
     "text": [
      "200304\n",
      "20 03 04\n"
     ]
    }
   ],
   "source": [
    "# print 내부 콤마하면 스페이스 하는거 이용\n",
    "\n",
    "s = input()\n",
    "print(s[0:2], s[2:4], s[4:6])"
   ]
  },
  {
   "cell_type": "markdown",
   "id": "81f83423",
   "metadata": {},
   "source": [
    "## [23번 문제](https://codeup.kr/problem.php?id=6023)\n",
    "- 무턱대고 슬라이싱 하지 말 것"
   ]
  },
  {
   "cell_type": "code",
   "execution_count": 4,
   "id": "4fd0119b",
   "metadata": {},
   "outputs": [
    {
     "name": "stdout",
     "output_type": "stream",
     "text": [
      "17:23:57\n",
      "23\n"
     ]
    }
   ],
   "source": [
    "h, m, s = input().split(':')\n",
    "print(m)"
   ]
  },
  {
   "cell_type": "code",
   "execution_count": 5,
   "id": "72267145",
   "metadata": {},
   "outputs": [
    {
     "name": "stdout",
     "output_type": "stream",
     "text": [
      "6:00:00\n",
      "0:\n"
     ]
    }
   ],
   "source": [
    "# 틀린 예시\n",
    "s = input()\n",
    "print(s[3:5])\n",
    "\n",
    "# 입력을 06:00:00 말고 6:00:00 이렇게 주면 틀리게 됨"
   ]
  },
  {
   "cell_type": "markdown",
   "id": "42d86bc9",
   "metadata": {},
   "source": [
    "## [24번 문제](https://codeup.kr/problem.php?id=6024)\n",
    "- split()으로 쪼개지면 리스트처럼 되는 것을 다시 명심"
   ]
  },
  {
   "cell_type": "code",
   "execution_count": 8,
   "id": "3862f530",
   "metadata": {},
   "outputs": [
    {
     "name": "stdout",
     "output_type": "stream",
     "text": [
      "hello world\n",
      "helloworld\n"
     ]
    }
   ],
   "source": [
    "# 문자열 더하기\n",
    "\n",
    "w1, w2 = input().split()\n",
    "print(w1 + w2)"
   ]
  },
  {
   "cell_type": "code",
   "execution_count": 9,
   "id": "90f25c63",
   "metadata": {},
   "outputs": [
    {
     "name": "stdout",
     "output_type": "stream",
     "text": [
      "hello world\n",
      "helloworld\n"
     ]
    }
   ],
   "source": [
    "# sep 이용해서 붙이기\n",
    "\n",
    "w1, w2 = input().split()\n",
    "print(w1, w2, sep=\"\")"
   ]
  }
 ],
 "metadata": {
  "kernelspec": {
   "display_name": "Python 3 (ipykernel)",
   "language": "python",
   "name": "python3"
  },
  "language_info": {
   "codemirror_mode": {
    "name": "ipython",
    "version": 3
   },
   "file_extension": ".py",
   "mimetype": "text/x-python",
   "name": "python",
   "nbconvert_exporter": "python",
   "pygments_lexer": "ipython3",
   "version": "3.9.7"
  }
 },
 "nbformat": 4,
 "nbformat_minor": 5
}
